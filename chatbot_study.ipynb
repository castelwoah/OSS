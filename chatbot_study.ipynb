{
  "nbformat": 4,
  "nbformat_minor": 0,
  "metadata": {
    "colab": {
      "provenance": [],
      "authorship_tag": "ABX9TyOUtbfwGBe8eHCOguYzEYnk",
      "include_colab_link": true
    },
    "kernelspec": {
      "name": "python3",
      "display_name": "Python 3"
    },
    "language_info": {
      "name": "python"
    }
  },
  "cells": [
    {
      "cell_type": "markdown",
      "metadata": {
        "id": "view-in-github",
        "colab_type": "text"
      },
      "source": [
        "<a href=\"https://colab.research.google.com/github/castelwoah/OSS/blob/main/chatbot_study.ipynb\" target=\"_parent\"><img src=\"https://colab.research.google.com/assets/colab-badge.svg\" alt=\"Open In Colab\"/></a>"
      ]
    },
    {
      "cell_type": "code",
      "source": [
        "pip install openai"
      ],
      "metadata": {
        "id": "9G-cThLauQcd"
      },
      "execution_count": null,
      "outputs": []
    },
    {
      "cell_type": "code",
      "source": [
        "pip install python-dotenv"
      ],
      "metadata": {
        "id": "bJVHCBp_uyRa"
      },
      "execution_count": null,
      "outputs": []
    },
    {
      "cell_type": "code",
      "execution_count": 30,
      "metadata": {
        "id": "444F6BsRtZZV"
      },
      "outputs": [],
      "source": [
        "# https://hashdork.com/ko/gpt-3-%EB%B0%8F-python%EC%9D%84-%EC%82%AC%EC%9A%A9%ED%95%98%EC%97%AC-%EC%B1%97%EB%B4%87-%EA%B5%AC%EC%B6%95/\n",
        "# GPT-3 및 Python을 사용하여 챗봇 구축\n",
        "\n",
        "import os\n",
        "import openai\n",
        "\n",
        "from dotenv import load_dotenv\n",
        "\n",
        "openai.api_key = \"API_KEY\"\n",
        "\n"
      ]
    },
    {
      "cell_type": "code",
      "source": [
        "def chatbot():\n",
        "    while True:\n",
        "        user_input = input(\"You: \")\n",
        "\n",
        "        if user_input.lower() == \"exit\":\n",
        "            print(\"Chatbot: Goodbye!\")\n",
        "            break\n",
        "\n",
        "        elif user_input.lower() == \"hello?\":\n",
        "            print(\"Chatbot: hi\")\n",
        "            continue\n",
        "\n",
        "        response = openai.Completion.create(\n",
        "            engine = \"text-davinci-003\",\n",
        "            prompt = user_input + \" \",\n",
        "            max_tokens = 2048,\n",
        "            temperature = 0.5\n",
        "            )\n",
        "\n",
        "        print(\"Chatbot: \", response[\"choices\"][0][\"text\"]) \n",
        "\n",
        "\n",
        "if __name__ == \"__main__\":\n",
        "    print(\"Welcom to the GPT-3 Chatbot!\")\n",
        "    print(\"Type 'exit' to close the chatbot.\")\n",
        "    chatbot()\n",
        "\n",
        "        "
      ],
      "metadata": {
        "colab": {
          "base_uri": "https://localhost:8080/"
        },
        "id": "3q0BjUMTtlgh",
        "outputId": "7c04d080-63a5-45c1-9fcd-fbecdb08adc7"
      },
      "execution_count": 31,
      "outputs": [
        {
          "output_type": "stream",
          "name": "stdout",
          "text": [
            "Welcom to the GPT-3 Chatbot!\n",
            "Type 'exit' to close the chatbot.\n",
            "You: hello\n",
            "Chatbot:  \n",
            "\n",
            "Hi there! How are you today?\n",
            "You: good. show me your version\n",
            "Chatbot:  \n",
            "\n",
            "My version of the nursery rhyme is:\n",
            "\n",
            "Humpty Dumpty sat on a wall,\n",
            "Humpty Dumpty had a great fall.\n",
            "All the king's horses and all the king's men,\n",
            "Couldn't put Humpty back together again.\n",
            "You: exit\n",
            "Chatbot: Goodbye!\n"
          ]
        }
      ]
    },
    {
      "cell_type": "code",
      "source": [],
      "metadata": {
        "id": "Tdc6dJwMvzYN"
      },
      "execution_count": null,
      "outputs": []
    }
  ]
}